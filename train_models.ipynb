{
 "cells": [
  {
   "cell_type": "markdown",
   "metadata": {},
   "source": [
    "# 주식 예측 모델 학습\n",
    "Google Colab에서 실행하여 ONNX 모델 생성"
   ]
  },
  {
   "cell_type": "code",
   "execution_count": null,
   "metadata": {},
   "outputs": [],
   "source": [
    "# 필요한 패키지 설치\n",
    "!pip install yfinance pandas numpy scikit-learn xgboost tensorflow onnx tf2onnx onnxruntime"
   ]
  },
  {
   "cell_type": "code",
   "execution_count": null,
   "metadata": {},
   "outputs": [],
   "source": [
    "import yfinance as yf\n",
    "import pandas as pd\n",
    "import numpy as np\n",
    "from sklearn.preprocessing import StandardScaler\n",
    "from sklearn.model_selection import train_test_split\n",
    "import tensorflow as tf\n",
    "from tensorflow import keras\n",
    "import xgboost as xgb\n",
    "import onnx\n",
    "import tf2onnx\n",
    "from datetime import datetime, timedelta"
   ]
  },
  {
   "cell_type": "code",
   "execution_count": null,
   "metadata": {},
   "outputs": [],
   "source": [
    "# 데이터 수집 함수\n",
    "def collect_stock_data(tickers, period='2y'):\n",
    "    all_data = []\n",
    "    \n",
    "    for ticker in tickers:\n",
    "        try:\n",
    "            stock = yf.Ticker(ticker)\n",
    "            hist = stock.history(period=period)\n",
    "            info = stock.info\n",
    "            \n",
    "            # 기술적 지표 계산\n",
    "            hist['Returns'] = hist['Close'].pct_change()\n",
    "            hist['MA20'] = hist['Close'].rolling(window=20).mean()\n",
    "            hist['MA60'] = hist['Close'].rolling(window=60).mean()\n",
    "            hist['RSI'] = calculate_rsi(hist['Close'])\n",
    "            hist['Volatility'] = hist['Returns'].rolling(window=20).std()\n",
    "            \n",
    "            # 펀더멘털 데이터 추가\n",
    "            hist['PE_Ratio'] = info.get('trailingPE', 15)\n",
    "            hist['ROE'] = info.get('returnOnEquity', 0.1) * 100\n",
    "            \n",
    "            # 타겟 변수: 다음날 상승 여부\n",
    "            hist['Target'] = (hist['Close'].shift(-1) > hist['Close']).astype(int)\n",
    "            \n",
    "            hist['Ticker'] = ticker\n",
    "            all_data.append(hist)\n",
    "            \n",
    "        except Exception as e:\n",
    "            print(f\"Error processing {ticker}: {e}\")\n",
    "    \n",
    "    return pd.concat(all_data, axis=0)\n",
    "\n",
    "def calculate_rsi(prices, period=14):\n",
    "    delta = prices.diff()\n",
    "    gain = (delta.where(delta > 0, 0)).rolling(window=period).mean()\n",
    "    loss = (-delta.where(delta < 0, 0)).rolling(window=period).mean()\n",
    "    rs = gain / loss\n",
    "    rsi = 100 - (100 / (1 + rs))\n",
    "    return rsi"
   ]
  },
  {
   "cell_type": "code",
   "execution_count": null,
   "metadata": {},
   "outputs": [],
   "source": [
    "# 주요 종목 리스트\n",
    "kr_tickers = ['005930.KS', '000660.KS', '035420.KS', '051910.KS', '006400.KS']\n",
    "us_tickers = ['AAPL', 'MSFT', 'GOOGL', 'AMZN', 'META']\n",
    "\n",
    "# 데이터 수집\n",
    "print(\"데이터 수집 중...\")\n",
    "df = collect_stock_data(kr_tickers + us_tickers)\n",
    "print(f\"수집 완료: {len(df)} 행\")"
   ]
  },
  {
   "cell_type": "code",
   "execution_count": null,
   "metadata": {},
   "outputs": [],
   "source": [
    "# 특징 준비\n",
    "feature_cols = ['Returns', 'MA20', 'MA60', 'RSI', 'Volatility', 'PE_Ratio', 'ROE']\n",
    "df_clean = df.dropna()\n",
    "\n",
    "X = df_clean[feature_cols]\n",
    "y = df_clean['Target']\n",
    "\n",
    "# 데이터 분할\n",
    "X_train, X_test, y_train, y_test = train_test_split(X, y, test_size=0.2, random_state=42)\n",
    "\n",
    "# 스케일링\n",
    "scaler = StandardScaler()\n",
    "X_train_scaled = scaler.fit_transform(X_train)\n",
    "X_test_scaled = scaler.transform(X_test)"
   ]
  },
  {
   "cell_type": "code",
   "execution_count": null,
   "metadata": {},
   "outputs": [],
   "source": [
    "# LSTM 모델\n",
    "def create_lstm_model(input_shape):\n",
    "    model = keras.Sequential([\n",
    "        keras.layers.LSTM(64, return_sequences=True, input_shape=input_shape),\n",
    "        keras.layers.Dropout(0.2),\n",
    "        keras.layers.LSTM(32),\n",
    "        keras.layers.Dropout(0.2),\n",
    "        keras.layers.Dense(16, activation='relu'),\n",
    "        keras.layers.Dense(1, activation='sigmoid')\n",
    "    ])\n",
    "    \n",
    "    model.compile(optimizer='adam', loss='binary_crossentropy', metrics=['accuracy'])\n",
    "    return model\n",
    "\n",
    "# 시계열 데이터 준비 (간단한 버전)\n",
    "X_train_lstm = X_train_scaled.reshape((X_train_scaled.shape[0], 1, X_train_scaled.shape[1]))\n",
    "X_test_lstm = X_test_scaled.reshape((X_test_scaled.shape[0], 1, X_test_scaled.shape[1]))\n",
    "\n",
    "lstm_model = create_lstm_model((1, X_train_scaled.shape[1]))\n",
    "lstm_model.fit(X_train_lstm, y_train, epochs=10, batch_size=32, validation_split=0.2, verbose=1)"
   ]
  },
  {
   "cell_type": "code",
   "execution_count": null,
   "metadata": {},
   "outputs": [],
   "source": [
    "# XGBoost 모델\n",
    "xgb_model = xgb.XGBClassifier(\n",
    "    n_estimators=100,\n",
    "    max_depth=5,\n",
    "    learning_rate=0.1,\n",
    "    random_state=42\n",
    ")\n",
    "\n",
    "xgb_model.fit(X_train_scaled, y_train)\n",
    "\n",
    "# 성능 평가\n",
    "from sklearn.metrics import accuracy_score, classification_report\n",
    "\n",
    "lstm_pred = (lstm_model.predict(X_test_lstm) > 0.5).astype(int)\n",
    "xgb_pred = xgb_model.predict(X_test_scaled)\n",
    "\n",
    "print(\"LSTM Accuracy:\", accuracy_score(y_test, lstm_pred))\n",
    "print(\"XGBoost Accuracy:\", accuracy_score(y_test, xgb_pred))"
   ]
  },
  {
   "cell_type": "code",
   "execution_count": null,
   "metadata": {},
   "outputs": [],
   "source": [
    "# ONNX 변환\n",
    "# LSTM 모델 변환\n",
    "input_signature = [tf.TensorSpec((None, 1, X_train_scaled.shape[1]), tf.float32, name='input')]\n",
    "onnx_model_lstm, _ = tf2onnx.convert.from_keras(lstm_model, input_signature=input_signature)\n",
    "onnx.save(onnx_model_lstm, 'lstm_model.onnx')\n",
    "\n",
    "# XGBoost는 별도 변환 필요\n",
    "# xgb_model.save_model('xgboost_model.json')\n",
    "\n",
    "print(\"모델 저장 완료!\")"
   ]
  },
  {
   "cell_type": "code",
   "execution_count": null,
   "metadata": {},
   "outputs": [],
   "source": [
    "# Google Drive에 저장 (Colab에서 실행 시)\n",
    "from google.colab import drive\n",
    "drive.mount('/content/drive')\n",
    "\n",
    "!cp lstm_model.onnx /content/drive/MyDrive/\n",
    "print(\"Google Drive에 모델 저장 완료!\")"
   ]
  }
 ],
 "metadata": {
  "kernelspec": {
   "display_name": "Python 3",
   "language": "python",
   "name": "python3"
  },
  "language_info": {
   "codemirror_mode": {
    "name": "ipython",
    "version": 3
   },
   "file_extension": ".py",
   "mimetype": "text/x-python",
   "name": "python",
   "nbconvert_exporter": "python",
   "pygments_lexer": "ipython3",
   "version": "3.8.0"
  }
 },
 "nbformat": 4,
 "nbformat_minor": 4
}
